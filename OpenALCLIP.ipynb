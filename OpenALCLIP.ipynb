{
 "cells": [
  {
   "cell_type": "code",
   "execution_count": 2,
   "metadata": {},
   "outputs": [
    {
     "name": "stdout",
     "output_type": "stream",
     "text": [
      "Label probs: [[0.6094  0.0851  0.0366  0.02254 0.2207  0.02594]]\n"
     ]
    }
   ],
   "source": [
    "import torch\n",
    "import clip\n",
    "from PIL import Image\n",
    "\n",
    "device = \"cuda\" if torch.cuda.is_available() else \"cpu\"\n",
    "model, preprocess = clip.load(\"ViT-B/32\", device=device)\n",
    "\n",
    "image = preprocess(Image.open(\"garbage classification/Garbage classification/glass/glass1.jpg\")).unsqueeze(0).to(device)\n",
    "text = clip.tokenize([\"the meterial is glass\", \"the meterial is cardboard\", \"the meterial is metal\", \"the meterial is paper\", \"the meterial is plastic\", \"the meterial is unknow\"]).to(device)\n",
    "\n",
    "with torch.no_grad():\n",
    "    image_features = model.encode_image(image)\n",
    "    text_features = model.encode_text(text)\n",
    "    \n",
    "    logits_per_image, logits_per_text = model(image, text)\n",
    "    probs = logits_per_image.softmax(dim=-1).cpu().numpy()\n",
    "\n",
    "print(\"Label probs:\", probs)  # Label probs: [[0.6094  0.0851  0.0366  0.02254 0.2207  0.02594]]"
   ]
  },
  {
   "cell_type": "code",
   "execution_count": 7,
   "metadata": {},
   "outputs": [
    {
     "name": "stdout",
     "output_type": "stream",
     "text": [
      "{'glass': {'correct': 323, 'total': 501}, 'cardboard': {'correct': 0, 'total': 0}, 'metal': {'correct': 0, 'total': 0}, 'paper': {'correct': 0, 'total': 0}, 'plastic': {'correct': 0, 'total': 0}}\n",
      "{'glass': {'correct': 323, 'total': 501}, 'cardboard': {'correct': 352, 'total': 403}, 'metal': {'correct': 0, 'total': 0}, 'paper': {'correct': 0, 'total': 0}, 'plastic': {'correct': 0, 'total': 0}}\n",
      "{'glass': {'correct': 323, 'total': 501}, 'cardboard': {'correct': 352, 'total': 403}, 'metal': {'correct': 181, 'total': 410}, 'paper': {'correct': 0, 'total': 0}, 'plastic': {'correct': 0, 'total': 0}}\n",
      "{'glass': {'correct': 323, 'total': 501}, 'cardboard': {'correct': 352, 'total': 403}, 'metal': {'correct': 181, 'total': 410}, 'paper': {'correct': 448, 'total': 594}, 'plastic': {'correct': 0, 'total': 0}}\n",
      "{'glass': {'correct': 323, 'total': 501}, 'cardboard': {'correct': 352, 'total': 403}, 'metal': {'correct': 181, 'total': 410}, 'paper': {'correct': 448, 'total': 594}, 'plastic': {'correct': 397, 'total': 482}}\n",
      "Accuracy for glass: 0.64\n",
      "Accuracy for cardboard: 0.87\n",
      "Accuracy for metal: 0.44\n",
      "Accuracy for paper: 0.75\n",
      "Accuracy for plastic: 0.82\n"
     ]
    }
   ],
   "source": [
    "import torch\n",
    "import clip\n",
    "from PIL import Image\n",
    "import os\n",
    "\n",
    "# Setup\n",
    "device = \"cuda\" if torch.cuda.is_available() else \"cpu\"\n",
    "model, preprocess = clip.load(\"ViT-B/32\", device=device)\n",
    "materials = [\"glass\", \"cardboard\", \"metal\", \"paper\", \"plastic\"]\n",
    "text_tokens = clip.tokenize([f\"the material is {material}\" for material in materials]).to(device)\n",
    "\n",
    "def classify_image(image_path):\n",
    "    image = preprocess(Image.open(image_path)).unsqueeze(0).to(device)\n",
    "    with torch.no_grad():\n",
    "        logits_per_image, _ = model(image, text_tokens)\n",
    "        probs = logits_per_image.softmax(dim=-1).cpu().numpy()\n",
    "    return probs.squeeze()\n",
    "\n",
    "# Iterate over folders and images\n",
    "root_dir = '/home/mingwei/Desktop/CLIP/garbage classification/Garbage classification'\n",
    "accuracy_dict = {material: {'correct': 0, 'total': 0} for material in materials}\n",
    "\n",
    "for material in materials:\n",
    "    directory = os.path.join(root_dir, material)\n",
    "    for filename in os.listdir(directory):\n",
    "        if filename.endswith('.jpg'):\n",
    "            image_path = os.path.join(directory, filename)\n",
    "            probs = classify_image(image_path)\n",
    "            predicted_index = probs.argmax()\n",
    "            predicted_material = materials[predicted_index]\n",
    "            # Increment counts\n",
    "            accuracy_dict[material]['total'] += 1\n",
    "            if material == predicted_material:\n",
    "                accuracy_dict[material]['correct'] += 1\n",
    "\n",
    "print(accuracy_dict)\n",
    "\n",
    "# Calculate and print accuracy for each material\n",
    "for material, counts in accuracy_dict.items():\n",
    "    if counts['total'] > 0:\n",
    "        accuracy = counts['correct'] / counts['total']\n",
    "        print(f\"Accuracy for {material}: {accuracy:.2f}\")\n"
   ]
  }
 ],
 "metadata": {
  "kernelspec": {
   "display_name": "clip",
   "language": "python",
   "name": "python3"
  },
  "language_info": {
   "codemirror_mode": {
    "name": "ipython",
    "version": 3
   },
   "file_extension": ".py",
   "mimetype": "text/x-python",
   "name": "python",
   "nbconvert_exporter": "python",
   "pygments_lexer": "ipython3",
   "version": "3.8.19"
  }
 },
 "nbformat": 4,
 "nbformat_minor": 2
}
