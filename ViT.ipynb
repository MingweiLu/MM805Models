{
  "nbformat": 4,
  "nbformat_minor": 0,
  "metadata": {
    "colab": {
      "provenance": []
    },
    "kernelspec": {
      "name": "python3",
      "display_name": "Python 3"
    },
    "language_info": {
      "name": "python"
    }
  },
  "cells": [
    {
      "cell_type": "code",
      "execution_count": null,
      "metadata": {
        "id": "0rCRuJf2RmWy"
      },
      "outputs": [],
      "source": [
        "import os\n",
        "from typing import Iterable\n",
        "from datasets import load_metric\n",
        "import numpy as np\n",
        "from PIL import Image\n",
        "import torch\n",
        "from transformers import TrainingArguments, Trainer, ViTForImageClassification, ViTImageProcessor"
      ]
    },
    {
      "cell_type": "code",
      "source": [
        "dataset_dir = 'dataset/Garbage classification'\n",
        "image_class_names = ['metal', 'glass', 'paper', 'trash', 'cardboard', 'plastic']\n",
        "\n",
        "batch_size = 64"
      ],
      "metadata": {
        "id": "MLQTP5t99Nuv"
      },
      "execution_count": null,
      "outputs": []
    },
    {
      "cell_type": "code",
      "source": [
        "def load_data(dataset_dir: str, image_class_names: list[str], batch_size: int):\n",
        "    batches = []\n",
        "    images = []\n",
        "    labels = []\n",
        "    for class_name in image_class_names:\n",
        "        class_dir = os.path.join(dataset_dir, class_name)\n",
        "        for image_name in os.listdir(class_dir):\n",
        "            image_path = os.path.join(class_dir, image_name)\n",
        "            image = Image.open(image_path)\n",
        "            images.append(image.flatten())\n",
        "            labels.append(i)\n",
        "\n",
        "            if len(images) == batch_size:\n",
        "                batches.append({'image': images, 'labels': labels})\n",
        "                images = []\n",
        "                labels = []\n",
        "    return batches\n",
        "\n",
        "ds = load_data(dataset_dir, image_class_names, batch_size)"
      ],
      "metadata": {
        "id": "9zCnwZWJ-Nlc"
      },
      "execution_count": null,
      "outputs": []
    },
    {
      "cell_type": "code",
      "source": [
        "processor = ViTImageProcessor.from_pretrained('google/vit-base-patch16-224-in21k')\n",
        "\n",
        "def transform(batch: Iterable[Image], processor):\n",
        "    inputs = processor([x for x in batch['image']], return_tensors='pt')    # process into pixel values\n",
        "    inputs['labels'] = batch['labels']\n",
        "    return inputs\n",
        "\n",
        "processed_ds = [transform(batch, processor) for batch in ds]"
      ],
      "metadata": {
        "id": "ZURBIjP_8udK"
      },
      "execution_count": null,
      "outputs": []
    },
    {
      "cell_type": "code",
      "source": [
        "def collate_fn(batch):\n",
        "    return {\n",
        "        'pixel_values': torch.stack([x['pixel_values'] for x in batch]),\n",
        "        'labels': torch.tensor([x['labels'] for x in batch])\n",
        "    }\n",
        "\n",
        "metric = load_metric(\"accuracy\")\n",
        "def compute_metrics(p):\n",
        "    return metric.compute(predictions=np.argmax(p.predictions, axis=1), references=p.label_ids)"
      ],
      "metadata": {
        "id": "55IOhcO7_tWo"
      },
      "execution_count": null,
      "outputs": []
    },
    {
      "cell_type": "code",
      "source": [
        "model = ViTForImageClassification.from_pretrained(\n",
        "    'google/vit-base-patch16-224-in21k',\n",
        "    num_labels=len(image_class_names),\n",
        "    id2label={str(i): c for i, c in enumerate(image_class_names)},\n",
        "    label2id={c: str(i) for i, c in enumerate(image_class_names)}\n",
        ")"
      ],
      "metadata": {
        "id": "ZqAPk9MMAT2v"
      },
      "execution_count": null,
      "outputs": []
    },
    {
      "cell_type": "code",
      "source": [
        "training_args = TrainingArguments(\n",
        "    output_dir=\"./vit-trained\",\n",
        "    per_device_train_batch_size=batch_size,\n",
        "    evaluation_strategy=\"steps\",\n",
        "    num_train_epochs=4,\n",
        "    fp16=True,\n",
        "    save_steps=100,\n",
        "    eval_steps=100,\n",
        "    logging_steps=10,\n",
        "    learning_rate=2e-4,\n",
        "    save_total_limit=2,\n",
        "    remove_unused_columns=False,\n",
        "    push_to_hub=False,\n",
        "    report_to='tensorboard',\n",
        "    load_best_model_at_end=True,\n",
        ")\n",
        "\n",
        "trainer = Trainer(\n",
        "    model=model,\n",
        "    args=training_args,\n",
        "    data_collator=collate_fn,\n",
        "    compute_metrics=compute_metrics,\n",
        "    train_dataset=prepared_ds[\"train\"],\n",
        "    eval_dataset=prepared_ds[\"validation\"],\n",
        "    tokenizer=processor,\n",
        ")\n",
        "\n",
        "train_results = trainer.train()\n",
        "trainer.save_model()\n",
        "trainer.log_metrics(\"train\", train_results.metrics)\n",
        "trainer.save_metrics(\"train\", train_results.metrics)\n",
        "trainer.save_state()"
      ],
      "metadata": {
        "id": "yL2QL7iUArPS"
      },
      "execution_count": null,
      "outputs": []
    },
    {
      "cell_type": "code",
      "source": [
        "metrics = trainer.evaluate(prepared_ds['validation'])\n",
        "trainer.log_metrics(\"eval\", metrics)\n",
        "trainer.save_metrics(\"eval\", metrics)"
      ],
      "metadata": {
        "id": "z8C-HT6cA4xR"
      },
      "execution_count": null,
      "outputs": []
    }
  ]
}